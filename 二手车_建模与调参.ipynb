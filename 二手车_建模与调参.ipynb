{
 "cells": [
  {
   "cell_type": "code",
   "execution_count": null,
   "metadata": {},
   "outputs": [],
   "source": [
    "import time\n",
    "import pandas as pd\n",
    "import numpy as np\n",
    "import matplotlib.pyplot as plt\n",
    "from sklearn.decomposition import PCA\n",
    "from sklearn.model_selection import train_test_split \n",
    "from sklearn.model_selection import cross_val_score\n",
    "from sklearn.preprocessing import OrdinalEncoder\n",
    "from sklearn.ensemble import RandomForestRegressor \n",
    "from sklearn.ensemble import RandomForestClassifier \n",
    "from sklearn.preprocessing import OneHotEncoder\n",
    "from sklearn.model_selection import train_test_split,StratifiedKFold,KFold\n",
    "from sklearn.linear_model import ElasticNetCV, LassoCV, RidgeCV,ElasticNet, Lasso,  BayesianRidge, LinearRegression, RANSACRegressor\n",
    "from sklearn.ensemble import RandomForestRegressor,  GradientBoostingRegressor, BaggingRegressor, AdaBoostRegressor\n",
    "from sklearn.linear_model import Ridge\n",
    "from sklearn.tree import DecisionTreeRegressor\n",
    "from sklearn.preprocessing import PolynomialFeatures\n",
    "\n",
    "import warnings\n",
    "import xgboost as xgb\n",
    "import lightgbm as lgb\n",
    "import catboost as cb\n",
    "warnings.simplefilter(action='ignore', category=FutureWarning)\n",
    "warnings.filterwarnings('ignore')\n",
    "\n",
    "pd.set_option('max_columns',1000) \n",
    "pd.set_option('max_row',300)  \n",
    "#pd.set_option(‘display.float_format’, lambda x: ‘%.5f’ % x)"
   ]
  },
  {
   "cell_type": "code",
   "execution_count": null,
   "metadata": {},
   "outputs": [],
   "source": [
    "#读取\n",
    "train_ = pd.read_csv(r'D:\\\\BaiduNetdiskDownload\\\\Data\\\\二手车\\\\train_2.csv')\n",
    "test_ = pd.read_csv(r'D:\\\\BaiduNetdiskDownload\\\\Data\\\\二手车\\\\test_2.csv')\n",
    "feature = pd.read_csv(r'D:\\\\BaiduNetdiskDownload\\\\Data\\\\二手车\\\\lgb_feature.csv')"
   ]
  },
  {
   "cell_type": "code",
   "execution_count": null,
   "metadata": {},
   "outputs": [],
   "source": [
    "#catboost调参 330mae562  520   3000 508   10000 520,508\n",
    "#330dep12 560\n",
    "#  RMSE, MultiRMSE, MAE, Quantile, LogLinQuantile, Poisson, MAPE, Lq\n",
    "model_cb = cb.CatBoostRegressor(iterations=330,learning_rate=0.1,depth=10,loss_function='MAE')\n",
    "#lgb 524\n",
    "\n",
    "score = []\n",
    "kfolder = KFold(n_splits=3,shuffle=True,random_state=100)\n",
    "for q,(train_index, test_index) in enumerate(kfolder.split(train_[feature],train_['price'])):\n",
    "    time1 = time.time()\n",
    "    Xtrain, Ytrain = train_.loc[train_index,feature],train_.loc[train_index,'price']\n",
    "    Xtest, Ytest = train_.loc[test_index,feature],train_.loc[test_index,'price']\n",
    "\n",
    "    cb_reg = model_cb.fit(Xtrain,Ytrain)\n",
    "    score_r = model_cb.score(Xtest,Ytest)\n",
    "    t = time.time() - time1\n",
    "    #print(k)\n",
    "    print(\"lcb:{}\".format(score_r))\n",
    "    y_pre = cb_reg.predict(Xtest)\n",
    "    print(abs(np.expm1(y_pre) - np.expm1(Ytest)).mean())\n",
    "    print(t,'秒')\n",
    "    score.append(abs(np.expm1(y_pre) - np.expm1(Ytest)).mean())\n",
    "print(\"MAE平均:\",np.mean(score))\n",
    "print('')"
   ]
  },
  {
   "cell_type": "code",
   "execution_count": null,
   "metadata": {},
   "outputs": [],
   "source": [
    "#xgb调参\n",
    "for k in range(2500,3500,500):\n",
    "    model_xgb = xgb.XGBRegressor(n_estimators=2500 ,learning_rate=0.1 ,random_state=420\n",
    "                   ,booster='dart' ,nthread=12 ,eval_metric='mae',max_depth=6,reg_lambda=1)\n",
    "    \n",
    "    time1 = time.time()\n",
    "    score = []\n",
    "    #Xtrain, Xtest, Ytrain, Ytest = train_test_split(train_[feature],train_['price'],test_size=1/3)\n",
    "    kfolder = KFold(n_splits=5,shuffle=True,random_state=100)\n",
    "    for q,(train_index, test_index) in enumerate(kfolder.split(train_[feature],train_['price'])):\n",
    "        \n",
    "        Xtrain, Xtest, Ytrain, Ytest = train_test_split(train_.loc[test_index,feature],train_.loc[test_index,'price'],test_size=1/3)\n",
    "\n",
    "        xgb_reg = model_xgb.fit(Xtrain,Ytrain)\n",
    "        score_r = model_xgb.score(Xtest,Ytest)\n",
    "        t = time.time() - time1\n",
    "        print(k)\n",
    "        print(\"xgb:{}\".format(score_r))\n",
    "        y_pre = xgb_reg.predict(Xtest)\n",
    "        print(abs(y_pre - Ytest).mean())\n",
    "        print(t,'秒')\n",
    "        score.append(abs(y_pre - Ytest).mean())\n",
    "    print(k,\":\",np.mean(score))\n",
    "    print('')"
   ]
  },
  {
   "cell_type": "code",
   "execution_count": null,
   "metadata": {},
   "outputs": [],
   "source": [
    "#rf调参\n",
    "for k in ['mae','friedman_mse','mse']:\n",
    "    rfr = RandomForestRegressor(random_state=0,n_estimators=100,n_jobs=-1,criterion=k)\n",
    "\n",
    "    score = []\n",
    "    #Xtrain, Xtest, Ytrain, Ytest = train_test_split(train_[feature],train_['price'],test_size=1/3)\n",
    "    kfolder = KFold(n_splits=3,shuffle=True,random_state=100)\n",
    "    for q,(train_index, test_index) in enumerate(kfolder.split(train_[feature],train_['price'])):\n",
    "        time1 = time.time()\n",
    "        Xtrain, Ytrain = train_.loc[train_index,feature],train_.loc[train_index,'price']\n",
    "        Xtest, Ytest = train_.loc[test_index,feature],train_.loc[test_index,'price']\n",
    "        \n",
    "        rf_reg = rfr.fit(Xtrain,Ytrain)\n",
    "        score_r = rfr.score(Xtest,Ytest)\n",
    "        t = time.time() - time1\n",
    "        print(k)\n",
    "        print(\"rf:{}\".format(score_r))\n",
    "        y_pre = rf_reg.predict(Xtest)\n",
    "        print(abs(y_pre - Ytest).mean())\n",
    "        print(t,'秒')\n",
    "        score.append(abs(y_pre - Ytest).mean())\n",
    "    print(k,\"MAE平均:\",np.mean(score))\n",
    "    print('')"
   ]
  },
  {
   "cell_type": "code",
   "execution_count": null,
   "metadata": {},
   "outputs": [],
   "source": []
  },
  {
   "cell_type": "code",
   "execution_count": null,
   "metadata": {},
   "outputs": [],
   "source": []
  },
  {
   "cell_type": "code",
   "execution_count": null,
   "metadata": {},
   "outputs": [],
   "source": []
  },
  {
   "cell_type": "code",
   "execution_count": null,
   "metadata": {},
   "outputs": [],
   "source": []
  },
  {
   "cell_type": "code",
   "execution_count": null,
   "metadata": {},
   "outputs": [],
   "source": []
  },
  {
   "cell_type": "code",
   "execution_count": null,
   "metadata": {},
   "outputs": [],
   "source": []
  },
  {
   "cell_type": "code",
   "execution_count": null,
   "metadata": {},
   "outputs": [],
   "source": []
  }
 ],
 "metadata": {
  "kernelspec": {
   "display_name": "Python 3",
   "language": "python",
   "name": "python3"
  },
  "language_info": {
   "codemirror_mode": {
    "name": "ipython",
    "version": 3
   },
   "file_extension": ".py",
   "mimetype": "text/x-python",
   "name": "python",
   "nbconvert_exporter": "python",
   "pygments_lexer": "ipython3",
   "version": "3.7.4"
  }
 },
 "nbformat": 4,
 "nbformat_minor": 2
}
