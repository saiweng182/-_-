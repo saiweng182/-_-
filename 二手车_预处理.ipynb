{
 "cells": [
  {
   "cell_type": "code",
   "execution_count": null,
   "metadata": {},
   "outputs": [],
   "source": [
    "import time\n",
    "import pandas as pd\n",
    "import numpy as np\n",
    "import matplotlib.pyplot as plt\n",
    "from sklearn.decomposition import PCA\n",
    "from sklearn.model_selection import train_test_split \n",
    "from sklearn.model_selection import cross_val_score\n",
    "from sklearn.preprocessing import OrdinalEncoder\n",
    "from sklearn.ensemble import RandomForestRegressor \n",
    "from sklearn.ensemble import RandomForestClassifier \n",
    "from sklearn.preprocessing import OneHotEncoder\n",
    "from sklearn.model_selection import train_test_split\n",
    "import warnings\n",
    "import xgboost as xgb\n",
    "import lightgbm as lgb\n",
    "warnings.simplefilter(action='ignore', category=FutureWarning)\n",
    "warnings.filterwarnings('ignore')"
   ]
  },
  {
   "cell_type": "code",
   "execution_count": null,
   "metadata": {},
   "outputs": [],
   "source": [
    "train = pd.read_csv(r'D:\\\\BaiduNetdiskDownload\\\\Data\\\\二手车\\\\train.csv')\n",
    "test = pd.read_csv(r'D:\\\\BaiduNetdiskDownload\\\\Data\\\\二手车\\\\test.csv')\n",
    "if train.columns[0] == 'Unnamed: 0':\n",
    "    train = train.drop(columns='Unnamed: 0')\n",
    "if test.columns[0] == 'Unnamed: 0':\n",
    "    test = test.drop(columns='Unnamed: 0')"
   ]
  },
  {
   "cell_type": "code",
   "execution_count": null,
   "metadata": {},
   "outputs": [],
   "source": [
    "#数据预处理\n",
    "def pre_deal(data):\n",
    "    \n",
    "    #日期处理\n",
    "    data['reg_year'] = data['regDate']//10000\n",
    "    data['reg_month'] = data['regDate']//100%100\n",
    "    data['reg_day'] = data['regDate']%100\n",
    "    data['creat_year'] = data['creatDate']//10000\n",
    "    data['creat_month'] = data['creatDate']//100%100\n",
    "    data['creat_day'] = data['creatDate']%100\n",
    "    \n",
    "    #发现异常值\n",
    "    data.loc[data.power>600,'power'] = -1\n",
    "    data.loc[data.notRepairedDamage == '-','notRepairedDamage'] = -1\n",
    "    \n",
    "    #众数填补model缺失值\n",
    "    if data.model.isnull().sum()>0:\n",
    "        data.model.fillna(data.model.mode()[0],inplace=True)\n",
    "    \n",
    "    #转换字符类型\n",
    "        ##先将缺失值转化为-1，方便转成int，有小数不好看\n",
    "    data = data.fillna(-1)\n",
    "    need_int = ['model','bodyType','fuelType','gearbox','notRepairedDamage']\n",
    "    for i in need_int:\n",
    "        data[i] = data[i].astype(float).astype(int)\n",
    "    \n",
    "    #未缺失数据_分类特征_独热编码\n",
    "    classification_f_1= ['brand']\n",
    "    data[classification_f_1] = data[classification_f_1].astype(object)\n",
    "    data = pd.get_dummies(data)\n",
    "    \n",
    "    #填补缺失值\n",
    "    data = fill_rf(data)\n",
    "    \n",
    "    #缺失数据_分类特征_独热编码\n",
    "    classification_f_2= ['fuelType','gearbox','bodyType','notRepairedDamage']\n",
    "    data[classification_f_2] = data[classification_f_2].astype(object)\n",
    "    data = pd.get_dummies(data)\n",
    "    \n",
    "    #去除无用列\n",
    "    useless = ['offerType','regDate','creatDate','seller']\n",
    "    data.drop(columns=useless,inplace=True)\n",
    "    \n",
    "    #['regionCode','model']类型过多，暂未处理\n",
    "    \n",
    "    return data\n"
   ]
  },
  {
   "cell_type": "code",
   "execution_count": null,
   "metadata": {},
   "outputs": [],
   "source": [
    "#随机森林填补缺失值\n",
    "def fill_rf(data):\n",
    "    need_fill_c = ['fuelType','gearbox','bodyType','notRepairedDamage']\n",
    "    need_fill_r = ['power']\n",
    "    feature = [ 'v_0', 'v_1', 'v_2', 'v_3',\n",
    "       'v_4', 'v_5', 'v_6', 'v_7', 'v_8', 'v_9', 'v_10', 'v_11', 'v_12',\n",
    "       'v_13', 'v_14', 'reg_year', 'reg_month', 'reg_day', 'creat_year',\n",
    "       'creat_month', 'creat_day', 'brand_0', 'brand_1', 'brand_2', 'brand_3',\n",
    "       'brand_4', 'brand_5', 'brand_6', 'brand_7', 'brand_8', 'brand_9',\n",
    "       'brand_10', 'brand_11', 'brand_12', 'brand_13', 'brand_14', 'brand_15',\n",
    "       'brand_16', 'brand_17', 'brand_18', 'brand_19', 'brand_20', 'brand_21',\n",
    "       'brand_22', 'brand_23', 'brand_24', 'brand_25', 'brand_26', 'brand_27',\n",
    "       'brand_28', 'brand_29', 'brand_30', 'brand_31', 'brand_32', 'brand_33',\n",
    "       'brand_34', 'brand_35', 'brand_36', 'brand_37', 'brand_38', 'brand_39']\n",
    "\n",
    "    for i in need_fill_c:\n",
    "        Xtrain = data[data[i] != -1][feature]\n",
    "        Ytrain = data[data[i] != -1][i]\n",
    "        Xtest = data[data[i] == -1][feature]\n",
    "        data[data[i] == -1][i]\n",
    "\n",
    "        rfc = RandomForestClassifier(n_estimators=100)\n",
    "        rfc = rfc.fit(Xtrain, Ytrain)\n",
    "        y_pre = rfc.predict(Xtest)\n",
    "        data.loc[data[i] == -1,i] = y_pre\n",
    "\n",
    "    for i in need_fill_r:\n",
    "        Xtrain = data[data[i] != -1][feature]\n",
    "        Ytrain = data[data[i] != -1][i]\n",
    "        Xtest = data[data[i] == -1][feature]\n",
    "        data[data[i] == -1][i]\n",
    "\n",
    "        rfr = RandomForestRegressor(n_estimators=100)\n",
    "        rfr = rfr.fit(Xtrain, Ytrain)\n",
    "        y_pre = rfr.predict(Xtest)\n",
    "        data.loc[data[i] == -1,i] = y_pre\n",
    "    \n",
    "    return(data)"
   ]
  },
  {
   "cell_type": "code",
   "execution_count": null,
   "metadata": {},
   "outputs": [],
   "source": [
    "#10min\n",
    "train_ = pre_deal(train)\n",
    "test_ = pre_deal(test)"
   ]
  },
  {
   "cell_type": "code",
   "execution_count": null,
   "metadata": {},
   "outputs": [],
   "source": [
    "#保存修复缺失值之后数据\n",
    "train_.to_csv('D:\\\\BaiduNetdiskDownload\\\\Data\\\\二手车\\\\train_.csv')\n",
    "test_.to_csv('D:\\\\BaiduNetdiskDownload\\\\Data\\\\二手车\\\\test_.csv')"
   ]
  }
 ],
 "metadata": {
  "kernelspec": {
   "display_name": "Python 3",
   "language": "python",
   "name": "python3"
  },
  "language_info": {
   "codemirror_mode": {
    "name": "ipython",
    "version": 3
   },
   "file_extension": ".py",
   "mimetype": "text/x-python",
   "name": "python",
   "nbconvert_exporter": "python",
   "pygments_lexer": "ipython3",
   "version": "3.7.4"
  }
 },
 "nbformat": 4,
 "nbformat_minor": 2
}
